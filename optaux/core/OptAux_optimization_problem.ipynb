{
 "cells": [
  {
   "cell_type": "markdown",
   "metadata": {},
   "source": [
    "$$\n",
    "\\begin{align}\n",
    "\\max_{y_j} & \\min_{v_j} v_{uptake\\_target} &\\\\\n",
    "\\mathrm{s.t.} & &\\\\\n",
    "& S_{ij} \\cdot v_j = 0 & \\forall i \\in \\mathrm{Metabolites}\\\\\n",
    "& v_{biomass} = set\\_biomass &\\\\\n",
    "& v_{trace} \\leq trace\\_metabolite\\_threshold &\\\\\n",
    "& v_{uptake} \\leq uptake\\_threshold &\\\\\n",
    "& y_j \\cdot \\mathrm{LB_j} \\leq v_j \\leq y_j \\cdot \\mathrm{UB_j} & \\forall j \\in \\mathrm{Reactions}\\\\\n",
    "& v_j \\geq 0 \\quad & \\forall j\\in \\mathrm{Reactions}\\\\\n",
    "y_j = \\lbrace0,1\\rbrace, & & \\forall j \\in \\mathrm{Reactions}\\\\\n",
    "\\sum_{\\forall j \\in \\mathrm{Reactions}} (1 - y_j) \\leq K & &\\\\\n",
    "\\end{align}\n",
    "$$"
   ]
  },
  {
   "cell_type": "code",
   "execution_count": null,
   "metadata": {
    "collapsed": true
   },
   "outputs": [],
   "source": []
  }
 ],
 "metadata": {
  "kernelspec": {
   "display_name": "Python 2",
   "language": "python",
   "name": "python2"
  },
  "language_info": {
   "codemirror_mode": {
    "name": "ipython",
    "version": 2
   },
   "file_extension": ".py",
   "mimetype": "text/x-python",
   "name": "python",
   "nbconvert_exporter": "python",
   "pygments_lexer": "ipython2",
   "version": "2.7.6"
  }
 },
 "nbformat": 4,
 "nbformat_minor": 2
}
