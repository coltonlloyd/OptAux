{
 "cells": [
  {
   "cell_type": "code",
   "execution_count": 1,
   "metadata": {
    "collapsed": true
   },
   "outputs": [],
   "source": [
    "import cobra\n",
    "import cobra.test\n",
    "\n",
    "ijo = cobra.test.create_test_model('ecoli')\n",
    "\n",
    "ijo_con = cobra.manipulation.modify.canonical_form(ijo)\n",
    "ijo_dual = cobra.design.dual_problem(ijo)\n",
    "ijo_irrev = ijo.copy()\n",
    "cobra.manipulation.convert_to_irreversible(ijo_irrev)"
   ]
  },
  {
   "cell_type": "code",
   "execution_count": 14,
   "metadata": {
    "collapsed": false
   },
   "outputs": [
    {
     "data": {
      "text/plain": [
       "<Solution 0.98 at 0x7f3401877fd0>"
      ]
     },
     "execution_count": 14,
     "metadata": {},
     "output_type": "execute_result"
    }
   ],
   "source": [
    "ijo_con.optimize()"
   ]
  },
  {
   "cell_type": "code",
   "execution_count": 16,
   "metadata": {
    "collapsed": false
   },
   "outputs": [
    {
     "data": {
      "text/plain": [
       "<Solution 0.98 at 0x7f3403543c10>"
      ]
     },
     "execution_count": 16,
     "metadata": {},
     "output_type": "execute_result"
    }
   ],
   "source": [
    "model = ijo_con.copy()\n",
    "for r in model.reactions:\n",
    "    met = cobra.Metabolite(r.id + '_upper_bound')\n",
    "    model.add_metabolites(met)\n",
    "    met._bound = 1000.\n",
    "    met._constraint_sense = 'L'\n",
    "    r.add_metabolites({met: 1.})\n",
    "model.optimize()"
   ]
  },
  {
   "cell_type": "markdown",
   "metadata": {},
   "source": [
    "The typical COBRA optimization problem has the form:\n",
    "\n",
    "$$\n",
    "S \\cdot \\bar{v} = 0\n",
    "$$\n",
    "\n",
    "making the reactions in the model irreversible and setting the metabolites to <= constraints allows us to represent the model in the cannonical form\n",
    "$$\n",
    "S \\cdot \\bar{v} \\leq \\bar{b}, \\quad \\bar{v} \\geq 0  \n",
    "$$\n",
    "\n",
    "## Primal (in cannonical form)\n",
    "### Linear Algebra representation\n",
    "$$\n",
    "\\begin{align*}\n",
    "\\max_{\\bar{v}} \\ & c^T \\bar{v} \\\\\n",
    "\\mathrm{s.t} \\ & \\\\\n",
    "& S^v \\cdot \\bar{v} \\leq \\bar{b}\\\\\n",
    "& \\bar{v} \\geq 0  \n",
    "\\end{align*}\n",
    "$$\n",
    "\n",
    "### COBRApy representation\n",
    "$$\n",
    "\\begin{align*}\n",
    "\\max & {\\sum_{\\forall j \\in \\mathrm{Reactions}}{(\\mathrm{objective\\_coefficient_j}} \\cdot \\mathrm{reaction_j})} \\\\\n",
    "\\mathrm{s.t} \\ & \\\\\n",
    "& \\sum_{\\forall j \\in \\mathrm{Reactions}}{(\\mathrm{coefficient_{ij}} \\cdot \\mathrm{reaction_j})} \\leq \\mathrm{metabolite\\_bound_i}\\\\\n",
    "& \\mathrm{reaction_j} \\leq \\mathrm{upper\\_bound_j}\\\\\n",
    "& \\mathrm{reaction_j} \\geq 0\n",
    "\\end{align*}\n",
    "$$"
   ]
  },
  {
   "cell_type": "code",
   "execution_count": null,
   "metadata": {
    "collapsed": true
   },
   "outputs": [],
   "source": []
  },
  {
   "cell_type": "markdown",
   "metadata": {},
   "source": [
    "\n",
    "# OptAux\n",
    "$$\n",
    "\\begin{align*}\n",
    "\\max_{y_j} & \\min_{v_j} v_{uptake}  \\\\\n",
    "& \\mathrm{s.t} \\ & \\\\\n",
    "& \\sum_{\\forall i \\in \\mathrm{Metabolites}}S_{ij} \\cdot v_j = 0, & \\forall j \\in \\mathrm{Reactions}\\\\\n",
    "& v_j \\geq 0,  & \\forall j \\in \\mathrm{Reactions}  \\\\\n",
    "& y_j \\cdot \\mathrm{LB}_j \\leq v_j \\leq y_j \\cdot \\mathrm{UB}_j,  & \\forall j \\in \\mathrm{Reactions}\\\\\n",
    "& v_{biomass} = \\mathrm{set\\_biomass}\\\\\n",
    "& v_{uptake} \\leq \\mathrm{uptake\\_threshold}\\\\\n",
    "& v_{trace\\_uptake} \\leq \\mathrm{trace\\_metabolite\\_threshold}\\\\\n",
    "y_j = \\in (0, 1),  \\forall j \\in \\mathrm{Reactions} \\\\\n",
    "\\sum_{\\forall j \\in \\mathrm{Reactions}}(1-y_j) \\leq \\mathrm{number\\_knockouts}\\\\\n",
    "\\end{align*}\n",
    "$$\n"
   ]
  },
  {
   "cell_type": "code",
   "execution_count": 2,
   "metadata": {
    "collapsed": false
   },
   "outputs": [
    {
     "name": "stdout",
     "output_type": "stream",
     "text": [
      "Number of reactions in irreversible form = 3219\n",
      "Number of reactions in canonical form = 3219\n",
      "\n",
      "Number of metabolites in irreversible form = 1805\n",
      "Number of metabolites in canonical form = 3611\n"
     ]
    }
   ],
   "source": [
    "print('Number of reactions in irreversible form = %i' % len(ijo_irrev.reactions))\n",
    "print('Number of reactions in canonical form = %i' % len(ijo_con.reactions))\n",
    "\n",
    "print('\\nNumber of metabolites in irreversible form = %i' % len(ijo_irrev.metabolites))\n",
    "print('Number of metabolites in canonical form = %i' % len(ijo_con.metabolites))"
   ]
  },
  {
   "cell_type": "markdown",
   "metadata": {},
   "source": [
    "A duplicate constraint (metabolite) is added to the opposite side of the reaction as the original metabolite in the model. This is done so \"_constraint_sense\" of each metabolite can be set as 'L' (<=) while enforcing that their \"_bound\" actually is forced to equal zero."
   ]
  },
  {
   "cell_type": "code",
   "execution_count": 3,
   "metadata": {
    "collapsed": false
   },
   "outputs": [
    {
     "name": "stdout",
     "output_type": "stream",
     "text": [
      "13dpg_c__GE_constraint + g3p_c + h_c__GE_constraint + nad_c + nadh_c__GE_constraint + pi_c --> 13dpg_c + g3p_c__GE_constraint + h_c + nad_c__GE_constraint + nadh_c + pi_c__GE_constraint\n",
      "\n",
      "13dpg_c + g3p_c__GE_constraint + h_c + nad_c__GE_constraint + nadh_c + pi_c__GE_constraint --> 13dpg_c__GE_constraint + g3p_c + h_c__GE_constraint + nad_c + nadh_c__GE_constraint + pi_c\n",
      "\n",
      "13dpg_c 0.0 L\n",
      "h_c 0.0 L\n",
      "nad_c__GE_constraint -0.0 L\n",
      "nad_c 0.0 L\n",
      "13dpg_c__GE_constraint -0.0 L\n",
      "pi_c__GE_constraint -0.0 L\n",
      "nadh_c 0.0 L\n",
      "g3p_c 0.0 L\n",
      "g3p_c__GE_constraint -0.0 L\n",
      "nadh_c__GE_constraint -0.0 L\n",
      "pi_c 0.0 L\n",
      "h_c__GE_constraint -0.0 L\n"
     ]
    }
   ],
   "source": [
    "# For reversible reaction\n",
    "print ijo_con.reactions.GAPD.reaction\n",
    "print ''\n",
    "print ijo_con.reactions.GAPD_reverse.reaction\n",
    "print ''\n",
    "for met in ijo_con.reactions.GAPD.metabolites:\n",
    "    print met,  met._bound,  met._constraint_sense"
   ]
  },
  {
   "cell_type": "markdown",
   "metadata": {},
   "source": [
    "Extra constraints (metabolites) are added if the lower bound of a reaction is greatear than 0. In this case it is ATPM. This forces that the reaction proceeds at a rate above or equal to the lower bound of the reaction"
   ]
  },
  {
   "cell_type": "code",
   "execution_count": 4,
   "metadata": {
    "collapsed": false
   },
   "outputs": [
    {
     "name": "stdout",
     "output_type": "stream",
     "text": [
      "ATPM__LB_constraint + adp_c__GE_constraint + atp_c + h2o_c + h_c__GE_constraint + pi_c__GE_constraint --> adp_c + atp_c__GE_constraint + h2o_c__GE_constraint + h_c + pi_c \n",
      "\n",
      "h_c 0.0 L\n",
      "adp_c 0.0 L\n",
      "ATPM__LB_constraint -3.15 L\n",
      "pi_c__GE_constraint -0.0 L\n",
      "atp_c__GE_constraint -0.0 L\n",
      "atp_c 0.0 L\n",
      "pi_c 0.0 L\n",
      "h2o_c 0.0 L\n",
      "adp_c__GE_constraint -0.0 L\n",
      "h2o_c__GE_constraint -0.0 L\n",
      "h_c__GE_constraint -0.0 L\n"
     ]
    }
   ],
   "source": [
    "# For reaction with lower_bound > 0\n",
    "print ijo_con.reactions.ATPM.reaction, '\\n'\n",
    "\n",
    "for met in ijo_con.reactions.ATPM.metabolites:\n",
    "    print met, met._bound, met._constraint_sense"
   ]
  },
  {
   "cell_type": "code",
   "execution_count": 9,
   "metadata": {
    "collapsed": false
   },
   "outputs": [
    {
     "data": {
      "text/plain": [
       "[]"
      ]
     },
     "execution_count": 9,
     "metadata": {},
     "output_type": "execute_result"
    }
   ],
   "source": [
    "ijo_con.metabolites.query('bound')"
   ]
  },
  {
   "cell_type": "markdown",
   "metadata": {},
   "source": [
    "----\n",
    "## Dual (without integer decision variables)\n",
    "### Linear Algebra representation\n",
    "$$\n",
    "\\begin{align*}\n",
    "\\min \\ & \\bar{b}^T \\bar{w}\\\\\n",
    "\\mathrm{s.t} \\ & \\\\\n",
    "& S^T \\cdot \\bar{w} \\geq \\bar{c}\\\\\n",
    "& \\bar{w} \\geq 0  \n",
    "\\end{align*}\n",
    "$$\n",
    "### COBRApy representation\n",
    "$$\n",
    "\\begin{align*}\n",
    "\\min & \\sum_{\\forall i \\in \\mathrm{metabolites}}{(\\mathrm{metabolite\\_bound_i} \\cdot \\mathrm{dual_i})} + \\sum_{ \\forall j \\in \\mathrm{reactions}}{(\\mathrm{upper\\_bound_j} \\cdot \\mathrm{dual^{ub}_{j}})} + \\sum_{\\forall j \\in \\mathrm{reactions}} (\\mathrm{-lower\\_bound_j \\cdot dual^{lb}_{j} })\\\\\n",
    "\\mathrm{s.t.} & \\\\\n",
    "& \\sum_{\\forall i \\in \\mathrm{metabolites}}{(\\mathrm{S^T_{ij}} \\cdot \\mathrm{dual_i})} + \\mathrm{dual^{ub}_j} + \\mathrm{dual^{lb}_j}\\geq \\mathrm{objective\\_coefficient_j}, \\quad \\forall j \\in \\mathrm{reactions} \\\\\n",
    "& dual \\geq 0\n",
    "\\end{align*}\n",
    "$$\n",
    "Note: For most M-model applications, $\\mathrm{metabolite\\_bound_i} = 0 \\ \\forall i \\in \\mathrm{metabolites}$ so this term can be dropped from the formulation. \n",
    "\n",
    "A the dual can be created from a model in canonical form using the **dual_problem** function.\n",
    "\n",
    "This function in words essentially transposes the stoichiometric matrix by:\n",
    "### 1. Transforming constraints (metabolites) into variables (reactions)\n",
    " 1. set objective equal to the metabolite._bound. This is zero for most metabolites except the lower bound constraint for ATPM\n",
    " 2. set lower bound to 0. upper bound to the dual maximum (1000 by default)\n",
    " 3. Add metabolite stoichiometry as reactions that the metabolite is involved in **with the coefficient equal to -(stoichiometry of metabolite in original reaction**)"
   ]
  },
  {
   "cell_type": "code",
   "execution_count": 10,
   "metadata": {
    "collapsed": false
   },
   "outputs": [
    {
     "data": {
      "text/plain": [
       "'lyx__L_c + xylu__L_c__GE_constraint --> lyx__L_c__GE_constraint + xylu__L_c'"
      ]
     },
     "execution_count": 10,
     "metadata": {},
     "output_type": "execute_result"
    }
   ],
   "source": [
    "ijo_con.reactions.LYXI.reaction"
   ]
  },
  {
   "cell_type": "code",
   "execution_count": 11,
   "metadata": {
    "collapsed": false
   },
   "outputs": [
    {
     "name": "stdout",
     "output_type": "stream",
     "text": [
      "LYXt2pp__dual_constrained_by_c --> LYXI__dual_constrained_by_c\n",
      "\n",
      "LYXI__dual_constrained_by_c --> LYXt2pp__dual_constrained_by_c\n"
     ]
    }
   ],
   "source": [
    "print ijo_dual.reactions.lyx__L_c__dual.reaction\n",
    "print ''\n",
    "print ijo_dual.reactions.lyx__L_c__GE_constraint__dual.reaction"
   ]
  },
  {
   "cell_type": "code",
   "execution_count": 12,
   "metadata": {
    "collapsed": false
   },
   "outputs": [
    {
     "name": "stdout",
     "output_type": "stream",
     "text": [
      "ATPM__LB_constraint ATPM__LB_constraint__dual -3.15\n"
     ]
    }
   ],
   "source": [
    "# The only reacion from this part included in the objective is the ATPM\n",
    "for met in ijo_con.metabolites:\n",
    "    for r in ijo_dual.reactions.query(met.id):\n",
    "        if '_upper_bound_constraint' in r.id:\n",
    "            continue\n",
    "        if r.objective_coefficient != 0:\n",
    "            print met, r, r.objective_coefficient"
   ]
  },
  {
   "cell_type": "code",
   "execution_count": 13,
   "metadata": {
    "collapsed": false
   },
   "outputs": [
    {
     "data": {
      "text/plain": [
       "'GAPD__dual_constrained_by_c --> '"
      ]
     },
     "execution_count": 13,
     "metadata": {},
     "output_type": "execute_result"
    }
   ],
   "source": [
    "ijo_dual.reactions.GAPD__dual_for_upper_bound_constraint.reaction"
   ]
  },
  {
   "cell_type": "markdown",
   "metadata": {},
   "source": [
    "### 2) Transforming variables (reactions) into constraints (metabolites)\n",
    " 1. metabolite._constraint_sense = 'L' (<=)\n",
    " 2. metabolite._bound = - reaction.objective_coefficient (to keep the it as a >= inequality)\n",
    " "
   ]
  },
  {
   "cell_type": "code",
   "execution_count": 136,
   "metadata": {
    "collapsed": false
   },
   "outputs": [
    {
     "data": {
      "text/plain": [
       "frozenset({<Reaction Ec_biomass_iJO1366_core_53p95M__dual_for_upper_bound_constraint at 0x7f1e0729da10>,\n",
       "           <Reaction murein5px4p_p__GE_constraint__dual at 0x7f1e072e8750>,\n",
       "           <Reaction pe160_p__GE_constraint__dual at 0x7f1e072fa3d0>,\n",
       "           <Reaction pe161_p__GE_constraint__dual at 0x7f1e072fa410>,\n",
       "           <Reaction kdo2lipid4_e__GE_constraint__dual at 0x7f1e07341c50>,\n",
       "           <Reaction zn2_c__GE_constraint__dual at 0x7f1e073821d0>,\n",
       "           <Reaction ser__L_c__GE_constraint__dual at 0x7f1e073ca210>,\n",
       "           <Reaction sheme_c__GE_constraint__dual at 0x7f1e073ca310>,\n",
       "           <Reaction so4_c__GE_constraint__dual at 0x7f1e073ca650>,\n",
       "           <Reaction thf_c__GE_constraint__dual at 0x7f1e073dd190>,\n",
       "           <Reaction thmpp_c__GE_constraint__dual at 0x7f1e073dd2d0>,\n",
       "           <Reaction thr__L_c__GE_constraint__dual at 0x7f1e073dd350>,\n",
       "           <Reaction trp__L_c__GE_constraint__dual at 0x7f1e073ddd10>,\n",
       "           <Reaction tyr__L_c__GE_constraint__dual at 0x7f1e073ddf50>,\n",
       "           <Reaction udcpdp_c__GE_constraint__dual at 0x7f1e073f1410>,\n",
       "           <Reaction utp_c__GE_constraint__dual at 0x7f1e073f1c50>,\n",
       "           <Reaction val__L_c__GE_constraint__dual at 0x7f1e073f1c90>,\n",
       "           <Reaction mlthf_c__GE_constraint__dual at 0x7f1e074050d0>,\n",
       "           <Reaction mn2_c__GE_constraint__dual at 0x7f1e07405210>,\n",
       "           <Reaction mobd_c__GE_constraint__dual at 0x7f1e07405390>,\n",
       "           <Reaction nad_c__GE_constraint__dual at 0x7f1e07405a90>,\n",
       "           <Reaction nadp_c__GE_constraint__dual at 0x7f1e07405b90>,\n",
       "           <Reaction nh4_c__GE_constraint__dual at 0x7f1e07405cd0>,\n",
       "           <Reaction ni2_c__GE_constraint__dual at 0x7f1e07405d50>,\n",
       "           <Reaction pe160_c__GE_constraint__dual at 0x7f1e07414f50>,\n",
       "           <Reaction pe161_c__GE_constraint__dual at 0x7f1e07414f90>,\n",
       "           <Reaction phe__L_c__GE_constraint__dual at 0x7f1e074264d0>,\n",
       "           <Reaction pheme_c__GE_constraint__dual at 0x7f1e07426510>,\n",
       "           <Reaction pi_c__GE_constraint__dual at 0x7f1e07426750>,\n",
       "           <Reaction ppi_c__GE_constraint__dual at 0x7f1e07426bd0>,\n",
       "           <Reaction pro__L_c__GE_constraint__dual at 0x7f1e07438110>,\n",
       "           <Reaction pydx5p_c__GE_constraint__dual at 0x7f1e07438610>,\n",
       "           <Reaction ribflv_c__GE_constraint__dual at 0x7f1e07438c10>,\n",
       "           <Reaction glu__L_c__GE_constraint__dual at 0x7f1e0744f050>,\n",
       "           <Reaction gly_c__GE_constraint__dual at 0x7f1e0744f290>,\n",
       "           <Reaction gtp_c__GE_constraint__dual at 0x7f1e0744fa10>,\n",
       "           <Reaction h_c__GE_constraint__dual at 0x7f1e0744fb50>,\n",
       "           <Reaction h2o_c__GE_constraint__dual at 0x7f1e0744fc90>,\n",
       "           <Reaction his__L_c__GE_constraint__dual at 0x7f1e07460250>,\n",
       "           <Reaction ile__L_c__GE_constraint__dual at 0x7f1e07460a50>,\n",
       "           <Reaction k_c__GE_constraint__dual at 0x7f1e07471050>,\n",
       "           <Reaction leu__L_c__GE_constraint__dual at 0x7f1e07471410>,\n",
       "           <Reaction lys__L_c__GE_constraint__dual at 0x7f1e07471710>,\n",
       "           <Reaction met__L_c__GE_constraint__dual at 0x7f1e07471e50>,\n",
       "           <Reaction mg2_c__GE_constraint__dual at 0x7f1e07471fd0>,\n",
       "           <Reaction ctp_c__GE_constraint__dual at 0x7f1e07490290>,\n",
       "           <Reaction cu2_c__GE_constraint__dual at 0x7f1e07490390>,\n",
       "           <Reaction cys__L_c__GE_constraint__dual at 0x7f1e07490510>,\n",
       "           <Reaction datp_c__GE_constraint__dual at 0x7f1e07490890>,\n",
       "           <Reaction dctp_c__GE_constraint__dual at 0x7f1e07490c10>,\n",
       "           <Reaction dgtp_c__GE_constraint__dual at 0x7f1e0749e090>,\n",
       "           <Reaction dttp_c__GE_constraint__dual at 0x7f1e0749ef10>,\n",
       "           <Reaction fad_c__GE_constraint__dual at 0x7f1e074ae650>,\n",
       "           <Reaction fe2_c__GE_constraint__dual at 0x7f1e074ae8d0>,\n",
       "           <Reaction fe3_c__GE_constraint__dual at 0x7f1e074ae950>,\n",
       "           <Reaction gln__L_c__GE_constraint__dual at 0x7f1e074bdf50>,\n",
       "           <Reaction adp_c__GE_constraint__dual at 0x7f1e074db410>,\n",
       "           <Reaction ala__L_c__GE_constraint__dual at 0x7f1e074db910>,\n",
       "           <Reaction amet_c__GE_constraint__dual at 0x7f1e074dbbd0>,\n",
       "           <Reaction arg__L_c__GE_constraint__dual at 0x7f1e074ed550>,\n",
       "           <Reaction asn__L_c__GE_constraint__dual at 0x7f1e074ed650>,\n",
       "           <Reaction asp__L_c__GE_constraint__dual at 0x7f1e074ed7d0>,\n",
       "           <Reaction atp_c__GE_constraint__dual at 0x7f1e074ed950>,\n",
       "           <Reaction bmocogdp_c__GE_constraint__dual at 0x7f1e074edb10>,\n",
       "           <Reaction btn_c__GE_constraint__dual at 0x7f1e074edc50>,\n",
       "           <Reaction ca2_c__GE_constraint__dual at 0x7f1e074edf50>,\n",
       "           <Reaction cl_c__GE_constraint__dual at 0x7f1e074ffa50>,\n",
       "           <Reaction coa_c__GE_constraint__dual at 0x7f1e074ffbd0>,\n",
       "           <Reaction cobalt2_c__GE_constraint__dual at 0x7f1e074ffc10>,\n",
       "           <Reaction 10fthf_c__GE_constraint__dual at 0x7f1e0c27b0d0>,\n",
       "           <Reaction 2fe2s_c__GE_constraint__dual at 0x7f1e0c292250>,\n",
       "           <Reaction 2ohph_c__GE_constraint__dual at 0x7f1e0c292590>,\n",
       "           <Reaction 4fe4s_c__GE_constraint__dual at 0x7f1e0c2a7d50>,\n",
       "           <Reaction murein5px4p_p__dual at 0x7f1e0c2b7f50>,\n",
       "           <Reaction pe160_p__dual at 0x7f1e0c2cc890>,\n",
       "           <Reaction pe161_p__dual at 0x7f1e0c2cc8d0>,\n",
       "           <Reaction kdo2lipid4_e__dual at 0x7f1e106d7dd0>,\n",
       "           <Reaction thf_c__dual at 0x7f1e106fb0d0>,\n",
       "           <Reaction thmpp_c__dual at 0x7f1e106fb1d0>,\n",
       "           <Reaction thr__L_c__dual at 0x7f1e106fb250>,\n",
       "           <Reaction trp__L_c__dual at 0x7f1e106fbb10>,\n",
       "           <Reaction tyr__L_c__dual at 0x7f1e106fbd10>,\n",
       "           <Reaction udcpdp_c__dual at 0x7f1e10712150>,\n",
       "           <Reaction utp_c__dual at 0x7f1e10712750>,\n",
       "           <Reaction val__L_c__dual at 0x7f1e10712790>,\n",
       "           <Reaction zn2_c__dual at 0x7f1e10712ad0>,\n",
       "           <Reaction pe160_c__dual at 0x7f1e10737750>,\n",
       "           <Reaction pe161_c__dual at 0x7f1e10737790>,\n",
       "           <Reaction phe__L_c__dual at 0x7f1e10737c50>,\n",
       "           <Reaction pheme_c__dual at 0x7f1e10737c90>,\n",
       "           <Reaction pi_c__dual at 0x7f1e10737e50>,\n",
       "           <Reaction ppi_c__dual at 0x7f1e1074f1d0>,\n",
       "           <Reaction pro__L_c__dual at 0x7f1e1074f510>,\n",
       "           <Reaction pydx5p_c__dual at 0x7f1e1074f950>,\n",
       "           <Reaction ribflv_c__dual at 0x7f1e1074fd90>,\n",
       "           <Reaction ser__L_c__dual at 0x7f1e10766210>,\n",
       "           <Reaction sheme_c__dual at 0x7f1e10766350>,\n",
       "           <Reaction so4_c__dual at 0x7f1e10766550>,\n",
       "           <Reaction k_c__dual at 0x7f1e1080a290>,\n",
       "           <Reaction leu__L_c__dual at 0x7f1e1080a5d0>,\n",
       "           <Reaction lys__L_c__dual at 0x7f1e1080a890>,\n",
       "           <Reaction met__L_c__dual at 0x7f1e1080aed0>,\n",
       "           <Reaction mg2_c__dual at 0x7f1e1081f0d0>,\n",
       "           <Reaction mlthf_c__dual at 0x7f1e1081f190>,\n",
       "           <Reaction mn2_c__dual at 0x7f1e1081f250>,\n",
       "           <Reaction mobd_c__dual at 0x7f1e1081f390>,\n",
       "           <Reaction nad_c__dual at 0x7f1e1081f810>,\n",
       "           <Reaction nadp_c__dual at 0x7f1e1081f890>,\n",
       "           <Reaction nh4_c__dual at 0x7f1e1081f950>,\n",
       "           <Reaction ni2_c__dual at 0x7f1e1081f990>,\n",
       "           <Reaction dttp_c__dual at 0x7f1e108442d0>,\n",
       "           <Reaction fad_c__dual at 0x7f1e10844710>,\n",
       "           <Reaction fe2_c__dual at 0x7f1e10844890>,\n",
       "           <Reaction fe3_c__dual at 0x7f1e108448d0>,\n",
       "           <Reaction gln__L_c__dual at 0x7f1e1085a9d0>,\n",
       "           <Reaction glu__L_c__dual at 0x7f1e1085aa90>,\n",
       "           <Reaction gly_c__dual at 0x7f1e1085ac50>,\n",
       "           <Reaction gtp_c__dual at 0x7f1e10872250>,\n",
       "           <Reaction h_c__dual at 0x7f1e10872310>,\n",
       "           <Reaction h2o_c__dual at 0x7f1e108723d0>,\n",
       "           <Reaction his__L_c__dual at 0x7f1e10872810>,\n",
       "           <Reaction ile__L_c__dual at 0x7f1e10872e10>,\n",
       "           <Reaction ala__L_c__dual at 0x7f1e1087d0d0>,\n",
       "           <Reaction amet_c__dual at 0x7f1e1087d350>,\n",
       "           <Reaction arg__L_c__dual at 0x7f1e1087da90>,\n",
       "           <Reaction asn__L_c__dual at 0x7f1e1087db90>,\n",
       "           <Reaction asp__L_c__dual at 0x7f1e1087dc90>,\n",
       "           <Reaction atp_c__dual at 0x7f1e1087ddd0>,\n",
       "           <Reaction bmocogdp_c__dual at 0x7f1e1087df90>,\n",
       "           <Reaction btn_c__dual at 0x7f1e10894090>,\n",
       "           <Reaction ca2_c__dual at 0x7f1e108942d0>,\n",
       "           <Reaction cl_c__dual at 0x7f1e10894a50>,\n",
       "           <Reaction coa_c__dual at 0x7f1e10894b10>,\n",
       "           <Reaction cobalt2_c__dual at 0x7f1e10894b50>,\n",
       "           <Reaction ctp_c__dual at 0x7f1e10894fd0>,\n",
       "           <Reaction cu2_c__dual at 0x7f1e108ac090>,\n",
       "           <Reaction cys__L_c__dual at 0x7f1e108ac190>,\n",
       "           <Reaction datp_c__dual at 0x7f1e108ac3d0>,\n",
       "           <Reaction dctp_c__dual at 0x7f1e108ac610>,\n",
       "           <Reaction dgtp_c__dual at 0x7f1e108ac8d0>,\n",
       "           <Reaction 2ohph_c__dual at 0x7f1e108b92d0>,\n",
       "           <Reaction 4fe4s_c__dual at 0x7f1e108d19d0>,\n",
       "           <Reaction adp_c__dual at 0x7f1e108e7cd0>,\n",
       "           <Reaction 10fthf_c__dual at 0x7f1e1091be10>,\n",
       "           <Reaction 2fe2s_c__dual at 0x7f1e10923f50>})"
      ]
     },
     "execution_count": 136,
     "metadata": {},
     "output_type": "execute_result"
    }
   ],
   "source": [
    "ijo_dual.metabolites.Ec_biomass_iJO1366_core_53p95M__dual_constrained_by_c.reactions"
   ]
  },
  {
   "cell_type": "code",
   "execution_count": 135,
   "metadata": {
    "collapsed": false
   },
   "outputs": [
    {
     "data": {
      "text/plain": [
       "-1.0"
      ]
     },
     "execution_count": 135,
     "metadata": {},
     "output_type": "execute_result"
    }
   ],
   "source": [
    "ijo_dual.metabolites.Ec_biomass_iJO1366_core_53p95M__dual_constrained_by_c._bound"
   ]
  },
  {
   "cell_type": "markdown",
   "metadata": {},
   "source": [
    "### 3) Add dual variables (reactions) to account for upper bound of original reactions\n",
    " 1. set objective equal to original reaction.upper_boudn\n",
    " 2. set dual reacition.upper_bound to dual maximum (1000 by default)"
   ]
  },
  {
   "cell_type": "code",
   "execution_count": 116,
   "metadata": {
    "collapsed": false
   },
   "outputs": [
    {
     "name": "stdout",
     "output_type": "stream",
     "text": [
      "LYXI__dual_constrained_by_c --> \n",
      "1000.0\n"
     ]
    }
   ],
   "source": [
    "# The dual vector has dimensions of i + 2*j. \n",
    "# One for each metabolite and 2 for each reaction (to account for upper and lower bound constraint)\n",
    "print ijo_dual.reactions.LYXI__dual_for_upper_bound_constraint.reaction\n",
    "print ijo_dual.reactions.LYXI__dual_for_upper_bound_constraint.objective_coefficient"
   ]
  },
  {
   "cell_type": "code",
   "execution_count": 176,
   "metadata": {
    "collapsed": false
   },
   "outputs": [],
   "source": [
    "ijo_dual2.reactions.Ec_biomass_iJO1366_WT_53p95M__dual_constrained_by_c__dual.objective_coefficient = 1."
   ]
  },
  {
   "cell_type": "code",
   "execution_count": 183,
   "metadata": {
    "collapsed": false
   },
   "outputs": [
    {
     "data": {
      "text/plain": [
       "'glc__D_e__dual__dual_constrained_by_c --> EX_glc_e__dual_for_upper_bound_constraint__dual_constrained_by_c + glc__D_e__GE_constraint__dual__dual_constrained_by_c'"
      ]
     },
     "execution_count": 183,
     "metadata": {},
     "output_type": "execute_result"
    }
   ],
   "source": [
    "ijo_dual2.reactions.EX_glc_e__dual_constrained_by_c__dual.reaction"
   ]
  },
  {
   "cell_type": "markdown",
   "metadata": {
    "collapsed": true
   },
   "source": [
    "----\n",
    "## With integer decision variables\n",
    "### Linear Algebra Representation\n",
    "$$\n",
    "\\begin{align*}\n",
    "\\max & {(c^T)x} \\\\\n",
    "\\mathrm{s.t.} & \\\\\n",
    "& (A_x)x + (A_y)y \\leq b\\\\\n",
    "& x \\geq 0\n",
    "\\end{align*}\n",
    "$$\n",
    "### COBRApy Representation\n",
    "$$\n",
    "\\begin{align*}\n",
    "\\max & \\sum_{\\forall j \\in \\mathrm{reactions}}(\\mathrm{objective\\_coefficient_j} \\cdot \\mathrm{reaction_j})\\\\\n",
    "\\mathrm{s.t.} & \\\\\n",
    "& \\sum_{\\forall j \\in \\mathrm{reactions}}(\\mathrm{coefficient_{ij}} \\cdot \\mathrm{reaction_j}) +\n",
    "\\sum_{\\forall j \\in \\mathrm{reactions}}(\\mathrm{decision\\_coeff_{ij}} \\cdot \\mathrm{decision\\_var_j}) \\leq \\mathrm{metabolite\\_bound_i}\\\\\n",
    "& \\mathrm{reaction_j} \\leq \\mathrm{upper\\_bound_j}\\\\\n",
    "& \\mathrm{reaction_j} \\geq 0\\\\\n",
    "& \\mathrm{decision\\_var_j} = 1 \\ \\mathrm{or \\ decision\\_var_j} = 0\n",
    "\\end{align*}\n",
    "$$\n",
    "## Dual\n",
    "### Linear Algebra Representation\n",
    "$$\n",
    "\\begin{align*}\n",
    "\\min & {(b - (A_y)y)^T} w \\\\\n",
    "\\mathrm{s.t.} & \\\\\n",
    "& (A_x)^T w \\geq c\\\\\n",
    "& w\\geq 0\n",
    "\\end{align*}\n",
    "$$\n",
    "This linearlizes (with $y\\cdot w \\rightarrow z$)to:\n",
    "\n",
    "$$\n",
    "\\begin{align*}\n",
    "\\min & (b^T)w - {((A_y)^T z \\ \\mathrm{with}  } \\\\\n",
    "\\mathrm{s.t.} & \\\\\n",
    "& (A_x)^Tw \\geq c\\\\\n",
    "& w\\geq 0 \\\\\n",
    "& z  \\leq w^{ub} \\cdot y \\\\\n",
    "& z \\leq w \\\\\n",
    "& z \\geq w - w^{ub}\\cdot (1-y)\\\\\n",
    "& z \\geq 0\n",
    "\\end{align*}\n",
    "$$\n",
    "### COBRApy Representation\n",
    "$$\n",
    "\\begin{align*}\n",
    "\\min & \\sum_{\\forall i \\in \\mathrm{metabolites}} \\mathrm{metabolite\\_bound_i \\cdot \\mathrm{dual_i}}  + \\sum_{\\forall j \\in \\mathrm{reactions}} \\mathrm{upper\\_bound_j \\cdot \\mathrm{dual^{ub}_j}}  - \\sum_{\\forall i, j} \\mathrm{decision\\_coefficient_{ij} \\cdot \\mathrm{auxilary\\_variable_{ij}}}\\\\\n",
    "\\mathrm{s.t.} & \\\\\n",
    "& - \\sum_{\\forall i \\in \\mathrm{metabolites}}(\\mathrm{S^T_{ij}} * \\mathrm{dual_i}) - \\mathrm{dual^{ub}}\n",
    "              \\leq - \\mathrm{objective\\_coefficient_j}\\\\\n",
    "& \\mathrm{auxiliary\\_var_{ij}} - \\mathrm{dual\\_maximum\\_bound_j} \\cdot \\mathrm{decision\\_var_j}\\leq 0\\\\\n",
    "& \\mathrm{auxiliary\\_var_{ij}} - \\mathrm{dual_i} \\leq 0\\\\\n",
    "& - \\mathrm{auxiliary\\_var_{ij}} + \\mathrm{dual_i}  + \\mathrm{decision\\_var_j} \\cdot \\mathrm{dual\\_maximum\\_bound_j} \\leq \\mathrm{dual\\_maximum\\_bound_j}\\\\\n",
    "& \\mathrm{dual\\_maximum\\_bound_j} \\geq \\mathrm{dual_i} \\geq 0\\\\\n",
    "& \\mathrm{dual\\_maximum\\_bound_j} \\geq \\mathrm{dual^{ub}_j} \\geq 0\\\\\n",
    "& \\mathrm{dual\\_maximum\\_bound_j} \\geq \\mathrm{auxilary\\_variable_{ij}} \\geq 0 \\\\\n",
    "& \\mathrm{decision\\_var_j} = 1 \\ \\mathrm{or \\ decision\\_var_j} = 0\n",
    "\\end{align*}\n",
    "$$"
   ]
  },
  {
   "cell_type": "code",
   "execution_count": 146,
   "metadata": {
    "collapsed": false
   },
   "outputs": [
    {
     "data": {
      "text/plain": [
       "<Reaction GAPD_decision_var at 0x7f1e0c339c90>"
      ]
     },
     "execution_count": 146,
     "metadata": {},
     "output_type": "execute_result"
    }
   ],
   "source": [
    "cobra.design.design_algorithms._add_decision_variable(ijo, 'GAPD')"
   ]
  },
  {
   "cell_type": "code",
   "execution_count": 170,
   "metadata": {
    "collapsed": false,
    "scrolled": true
   },
   "outputs": [
    {
     "data": {
      "text/plain": [
       "1.0"
      ]
     },
     "execution_count": 170,
     "metadata": {},
     "output_type": "execute_result"
    }
   ],
   "source": [
    "ijo.reactions.GAPD_decision_var.x"
   ]
  },
  {
   "cell_type": "code",
   "execution_count": 162,
   "metadata": {
    "collapsed": false
   },
   "outputs": [
    {
     "data": {
      "text/plain": [
       "'GAPD_decision_var_lower_bound + g3p_c + nad_c + pi_c <=> 13dpg_c + GAPD_decision_var_upper_bound + h_c + nadh_c'"
      ]
     },
     "execution_count": 162,
     "metadata": {},
     "output_type": "execute_result"
    }
   ],
   "source": [
    "ijo.reactions.GAPD.reaction"
   ]
  },
  {
   "cell_type": "code",
   "execution_count": 169,
   "metadata": {
    "collapsed": false
   },
   "outputs": [
    {
     "data": {
      "text/plain": [
       "<Solution 20.00 at 0x7f1e10c4b990>"
      ]
     },
     "execution_count": 169,
     "metadata": {},
     "output_type": "execute_result"
    }
   ],
   "source": [
    "ijo.reactions.EX_glc_e.lower_bound = -10\n",
    "ijo.optimize()"
   ]
  },
  {
   "cell_type": "code",
   "execution_count": 153,
   "metadata": {
    "collapsed": false
   },
   "outputs": [],
   "source": [
    "ijo_dual = cobra.design.dual_problem(ijo, 'maximize', ['GAPD_decision_var'])"
   ]
  },
  {
   "cell_type": "code",
   "execution_count": 154,
   "metadata": {
    "collapsed": false
   },
   "outputs": [
    {
     "data": {
      "text/plain": [
       "[<Reaction GAPD_decision_var_lower_bound__dual at 0x7f1e0d2f3cd0>,\n",
       " <Reaction GAPD_decision_var_upper_bound__dual at 0x7f1e0d2f3b50>,\n",
       " <Reaction GAPD__dual_for_upper_bound_constraint at 0x7f1e112dd050>,\n",
       " <Reaction GAPD_decision_var at 0x7f1e10eabdd0>,\n",
       " <Reaction GAPD_reverse__dual_for_upper_bound_constraint at 0x7f1e06be7750>,\n",
       " <Reaction GAPD_decision_var__auxiliary__GAPD_decision_var_upper_bound__dual at 0x7f1e10c4b150>,\n",
       " <Reaction GAPD_decision_var__auxiliary__GAPD_decision_var_lower_bound__dual at 0x7f1e10c4b250>]"
      ]
     },
     "execution_count": 154,
     "metadata": {},
     "output_type": "execute_result"
    }
   ],
   "source": [
    "ijo_dual.reactions.query(\"GAPD\")"
   ]
  },
  {
   "cell_type": "code",
   "execution_count": 155,
   "metadata": {
    "collapsed": false
   },
   "outputs": [
    {
     "data": {
      "text/plain": [
       "'1000 GAPD_decision_var__auxiliary__GAPD_decision_var_lower_bound__dual__le_decision + 1000 GAPD_decision_var__auxiliary__GAPD_decision_var_upper_bound__dual__le_decision --> 1000 GAPD_decision_var__auxiliary__GAPD_decision_var_lower_bound__dual__g_dual + 1000 GAPD_decision_var__auxiliary__GAPD_decision_var_upper_bound__dual__g_dual'"
      ]
     },
     "execution_count": 155,
     "metadata": {},
     "output_type": "execute_result"
    }
   ],
   "source": [
    "ijo_dual.reactions.GAPD_decision_var.reaction"
   ]
  },
  {
   "cell_type": "code",
   "execution_count": 196,
   "metadata": {
    "collapsed": false
   },
   "outputs": [
    {
     "data": {
      "text/plain": [
       "10.0"
      ]
     },
     "execution_count": 196,
     "metadata": {},
     "output_type": "execute_result"
    }
   ],
   "source": [
    "ijo_dual.reactions.EX_glc_e_reverse__dual_for_upper_bound_constraint.objective_coefficient"
   ]
  },
  {
   "cell_type": "code",
   "execution_count": 190,
   "metadata": {
    "collapsed": false
   },
   "outputs": [
    {
     "data": {
      "text/plain": [
       "0.0"
      ]
     },
     "execution_count": 190,
     "metadata": {},
     "output_type": "execute_result"
    }
   ],
   "source": [
    "ijo_dual.metabolites.EX_glc_e_reverse__dual_constrained_by_c.ob"
   ]
  },
  {
   "cell_type": "code",
   "execution_count": 192,
   "metadata": {
    "collapsed": false
   },
   "outputs": [
    {
     "data": {
      "text/plain": [
       "10.0"
      ]
     },
     "execution_count": 192,
     "metadata": {},
     "output_type": "execute_result"
    }
   ],
   "source": [
    "ijo_con.reactions.EX_glc_e_reverse.upper_bound"
   ]
  },
  {
   "cell_type": "code",
   "execution_count": 202,
   "metadata": {
    "collapsed": false
   },
   "outputs": [
    {
     "name": "stdout",
     "output_type": "stream",
     "text": [
      "GAPD_decision_var__auxiliary__GAPD_decision_var_upper_bound__dual__le_decision 0 1\n",
      "GAPD_decision_var__auxiliary__GAPD_decision_var_upper_bound__dual__le_dual 0 1\n",
      "GAPD_decision_var__auxiliary__GAPD_decision_var_upper_bound__dual__g_dual 1000 -1\n"
     ]
    }
   ],
   "source": [
    "for m, v  in ijo_dual.reactions.GAPD_decision_var__auxiliary__GAPD_decision_var_upper_bound__dual.metabolites.items():\n",
    "    print m, m._bound, v"
   ]
  },
  {
   "cell_type": "code",
   "execution_count": 204,
   "metadata": {
    "collapsed": false
   },
   "outputs": [
    {
     "data": {
      "text/plain": [
       "{<Metabolite GAPD_decision_var__auxiliary__GAPD_decision_var_upper_bound__dual__le_decision at 0x7f1e10c4b190>: -1000,\n",
       " <Metabolite GAPD_decision_var__auxiliary__GAPD_decision_var_upper_bound__dual__g_dual at 0x7f1e10c4b210>: 1000,\n",
       " <Metabolite GAPD_decision_var__auxiliary__GAPD_decision_var_lower_bound__dual__le_decision at 0x7f1e10c4b290>: -1000,\n",
       " <Metabolite GAPD_decision_var__auxiliary__GAPD_decision_var_lower_bound__dual__g_dual at 0x7f1e10c4b310>: 1000}"
      ]
     },
     "execution_count": 204,
     "metadata": {},
     "output_type": "execute_result"
    }
   ],
   "source": [
    "ijo_dual.reactions.GAPD_decision_var.metabolites"
   ]
  },
  {
   "cell_type": "code",
   "execution_count": 206,
   "metadata": {
    "collapsed": false
   },
   "outputs": [
    {
     "data": {
      "text/plain": [
       "'cglpk'"
      ]
     },
     "execution_count": 206,
     "metadata": {},
     "output_type": "execute_result"
    }
   ],
   "source": [
    "cobra.solvers."
   ]
  },
  {
   "cell_type": "code",
   "execution_count": null,
   "metadata": {
    "collapsed": true
   },
   "outputs": [],
   "source": []
  },
  {
   "cell_type": "code",
   "execution_count": null,
   "metadata": {
    "collapsed": true
   },
   "outputs": [],
   "source": []
  }
 ],
 "metadata": {
  "kernelspec": {
   "display_name": "Python 2",
   "language": "python",
   "name": "python2"
  },
  "language_info": {
   "codemirror_mode": {
    "name": "ipython",
    "version": 3
   },
   "file_extension": ".py",
   "mimetype": "text/x-python",
   "name": "python",
   "nbconvert_exporter": "python",
   "pygments_lexer": "ipython3",
   "version": "3.5.3"
  }
 },
 "nbformat": 4,
 "nbformat_minor": 2
}
